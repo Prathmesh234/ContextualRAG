{
  "nbformat": 4,
  "nbformat_minor": 0,
  "metadata": {
    "colab": {
      "provenance": []
    },
    "kernelspec": {
      "name": "python3",
      "display_name": "Python 3"
    },
    "language_info": {
      "name": "python"
    }
  },
  "cells": [
    {
      "cell_type": "code",
      "execution_count": 4,
      "metadata": {
        "colab": {
          "base_uri": "https://localhost:8080/"
        },
        "id": "xw5WVoZO4BjE",
        "outputId": "8990abac-f72a-48a7-c99b-20bb5e054bd8"
      },
      "outputs": [
        {
          "output_type": "stream",
          "name": "stdout",
          "text": [
            "Requirement already satisfied: langchain in /usr/local/lib/python3.10/dist-packages (0.3.1)\n",
            "Requirement already satisfied: langchain-openai in /usr/local/lib/python3.10/dist-packages (0.2.1)\n",
            "Requirement already satisfied: openai in /usr/local/lib/python3.10/dist-packages (1.50.2)\n",
            "Requirement already satisfied: faiss-cpu in /usr/local/lib/python3.10/dist-packages (1.8.0.post1)\n",
            "Requirement already satisfied: python-dotenv in /usr/local/lib/python3.10/dist-packages (1.0.1)\n",
            "Requirement already satisfied: rank_bm25 in /usr/local/lib/python3.10/dist-packages (0.2.2)\n",
            "Requirement already satisfied: PyYAML>=5.3 in /usr/local/lib/python3.10/dist-packages (from langchain) (6.0.2)\n",
            "Requirement already satisfied: SQLAlchemy<3,>=1.4 in /usr/local/lib/python3.10/dist-packages (from langchain) (2.0.35)\n",
            "Requirement already satisfied: aiohttp<4.0.0,>=3.8.3 in /usr/local/lib/python3.10/dist-packages (from langchain) (3.10.5)\n",
            "Requirement already satisfied: async-timeout<5.0.0,>=4.0.0 in /usr/local/lib/python3.10/dist-packages (from langchain) (4.0.3)\n",
            "Requirement already satisfied: langchain-core<0.4.0,>=0.3.6 in /usr/local/lib/python3.10/dist-packages (from langchain) (0.3.7)\n",
            "Requirement already satisfied: langchain-text-splitters<0.4.0,>=0.3.0 in /usr/local/lib/python3.10/dist-packages (from langchain) (0.3.0)\n",
            "Requirement already satisfied: langsmith<0.2.0,>=0.1.17 in /usr/local/lib/python3.10/dist-packages (from langchain) (0.1.129)\n",
            "Requirement already satisfied: numpy<2,>=1 in /usr/local/lib/python3.10/dist-packages (from langchain) (1.26.4)\n",
            "Requirement already satisfied: pydantic<3.0.0,>=2.7.4 in /usr/local/lib/python3.10/dist-packages (from langchain) (2.9.2)\n",
            "Requirement already satisfied: requests<3,>=2 in /usr/local/lib/python3.10/dist-packages (from langchain) (2.32.3)\n",
            "Requirement already satisfied: tenacity!=8.4.0,<9.0.0,>=8.1.0 in /usr/local/lib/python3.10/dist-packages (from langchain) (8.5.0)\n",
            "Requirement already satisfied: tiktoken<1,>=0.7 in /usr/local/lib/python3.10/dist-packages (from langchain-openai) (0.7.0)\n",
            "Requirement already satisfied: anyio<5,>=3.5.0 in /usr/local/lib/python3.10/dist-packages (from openai) (3.7.1)\n",
            "Requirement already satisfied: distro<2,>=1.7.0 in /usr/lib/python3/dist-packages (from openai) (1.7.0)\n",
            "Requirement already satisfied: httpx<1,>=0.23.0 in /usr/local/lib/python3.10/dist-packages (from openai) (0.27.2)\n",
            "Requirement already satisfied: jiter<1,>=0.4.0 in /usr/local/lib/python3.10/dist-packages (from openai) (0.5.0)\n",
            "Requirement already satisfied: sniffio in /usr/local/lib/python3.10/dist-packages (from openai) (1.3.1)\n",
            "Requirement already satisfied: tqdm>4 in /usr/local/lib/python3.10/dist-packages (from openai) (4.66.5)\n",
            "Requirement already satisfied: typing-extensions<5,>=4.11 in /usr/local/lib/python3.10/dist-packages (from openai) (4.12.2)\n",
            "Requirement already satisfied: packaging in /usr/local/lib/python3.10/dist-packages (from faiss-cpu) (24.1)\n",
            "Requirement already satisfied: aiohappyeyeballs>=2.3.0 in /usr/local/lib/python3.10/dist-packages (from aiohttp<4.0.0,>=3.8.3->langchain) (2.4.0)\n",
            "Requirement already satisfied: aiosignal>=1.1.2 in /usr/local/lib/python3.10/dist-packages (from aiohttp<4.0.0,>=3.8.3->langchain) (1.3.1)\n",
            "Requirement already satisfied: attrs>=17.3.0 in /usr/local/lib/python3.10/dist-packages (from aiohttp<4.0.0,>=3.8.3->langchain) (24.2.0)\n",
            "Requirement already satisfied: frozenlist>=1.1.1 in /usr/local/lib/python3.10/dist-packages (from aiohttp<4.0.0,>=3.8.3->langchain) (1.4.1)\n",
            "Requirement already satisfied: multidict<7.0,>=4.5 in /usr/local/lib/python3.10/dist-packages (from aiohttp<4.0.0,>=3.8.3->langchain) (6.1.0)\n",
            "Requirement already satisfied: yarl<2.0,>=1.0 in /usr/local/lib/python3.10/dist-packages (from aiohttp<4.0.0,>=3.8.3->langchain) (1.11.1)\n",
            "Requirement already satisfied: idna>=2.8 in /usr/local/lib/python3.10/dist-packages (from anyio<5,>=3.5.0->openai) (3.10)\n",
            "Requirement already satisfied: exceptiongroup in /usr/local/lib/python3.10/dist-packages (from anyio<5,>=3.5.0->openai) (1.2.2)\n",
            "Requirement already satisfied: certifi in /usr/local/lib/python3.10/dist-packages (from httpx<1,>=0.23.0->openai) (2024.8.30)\n",
            "Requirement already satisfied: httpcore==1.* in /usr/local/lib/python3.10/dist-packages (from httpx<1,>=0.23.0->openai) (1.0.5)\n",
            "Requirement already satisfied: h11<0.15,>=0.13 in /usr/local/lib/python3.10/dist-packages (from httpcore==1.*->httpx<1,>=0.23.0->openai) (0.14.0)\n",
            "Requirement already satisfied: jsonpatch<2.0,>=1.33 in /usr/local/lib/python3.10/dist-packages (from langchain-core<0.4.0,>=0.3.6->langchain) (1.33)\n",
            "Requirement already satisfied: orjson<4.0.0,>=3.9.14 in /usr/local/lib/python3.10/dist-packages (from langsmith<0.2.0,>=0.1.17->langchain) (3.10.7)\n",
            "Requirement already satisfied: annotated-types>=0.6.0 in /usr/local/lib/python3.10/dist-packages (from pydantic<3.0.0,>=2.7.4->langchain) (0.7.0)\n",
            "Requirement already satisfied: pydantic-core==2.23.4 in /usr/local/lib/python3.10/dist-packages (from pydantic<3.0.0,>=2.7.4->langchain) (2.23.4)\n",
            "Requirement already satisfied: charset-normalizer<4,>=2 in /usr/local/lib/python3.10/dist-packages (from requests<3,>=2->langchain) (3.3.2)\n",
            "Requirement already satisfied: urllib3<3,>=1.21.1 in /usr/local/lib/python3.10/dist-packages (from requests<3,>=2->langchain) (2.2.3)\n",
            "Requirement already satisfied: greenlet!=0.4.17 in /usr/local/lib/python3.10/dist-packages (from SQLAlchemy<3,>=1.4->langchain) (3.1.1)\n",
            "Requirement already satisfied: regex>=2022.1.18 in /usr/local/lib/python3.10/dist-packages (from tiktoken<1,>=0.7->langchain-openai) (2024.9.11)\n",
            "Requirement already satisfied: jsonpointer>=1.9 in /usr/local/lib/python3.10/dist-packages (from jsonpatch<2.0,>=1.33->langchain-core<0.4.0,>=0.3.6->langchain) (3.0.0)\n",
            "Collecting langchain-community\n",
            "  Downloading langchain_community-0.3.1-py3-none-any.whl.metadata (2.8 kB)\n",
            "Requirement already satisfied: PyYAML>=5.3 in /usr/local/lib/python3.10/dist-packages (from langchain-community) (6.0.2)\n",
            "Requirement already satisfied: SQLAlchemy<3,>=1.4 in /usr/local/lib/python3.10/dist-packages (from langchain-community) (2.0.35)\n",
            "Requirement already satisfied: aiohttp<4.0.0,>=3.8.3 in /usr/local/lib/python3.10/dist-packages (from langchain-community) (3.10.5)\n",
            "Collecting dataclasses-json<0.7,>=0.5.7 (from langchain-community)\n",
            "  Downloading dataclasses_json-0.6.7-py3-none-any.whl.metadata (25 kB)\n",
            "Requirement already satisfied: langchain<0.4.0,>=0.3.1 in /usr/local/lib/python3.10/dist-packages (from langchain-community) (0.3.1)\n",
            "Requirement already satisfied: langchain-core<0.4.0,>=0.3.6 in /usr/local/lib/python3.10/dist-packages (from langchain-community) (0.3.7)\n",
            "Requirement already satisfied: langsmith<0.2.0,>=0.1.125 in /usr/local/lib/python3.10/dist-packages (from langchain-community) (0.1.129)\n",
            "Requirement already satisfied: numpy<2,>=1 in /usr/local/lib/python3.10/dist-packages (from langchain-community) (1.26.4)\n",
            "Collecting pydantic-settings<3.0.0,>=2.4.0 (from langchain-community)\n",
            "  Downloading pydantic_settings-2.5.2-py3-none-any.whl.metadata (3.5 kB)\n",
            "Requirement already satisfied: requests<3,>=2 in /usr/local/lib/python3.10/dist-packages (from langchain-community) (2.32.3)\n",
            "Requirement already satisfied: tenacity!=8.4.0,<9.0.0,>=8.1.0 in /usr/local/lib/python3.10/dist-packages (from langchain-community) (8.5.0)\n",
            "Requirement already satisfied: aiohappyeyeballs>=2.3.0 in /usr/local/lib/python3.10/dist-packages (from aiohttp<4.0.0,>=3.8.3->langchain-community) (2.4.0)\n",
            "Requirement already satisfied: aiosignal>=1.1.2 in /usr/local/lib/python3.10/dist-packages (from aiohttp<4.0.0,>=3.8.3->langchain-community) (1.3.1)\n",
            "Requirement already satisfied: attrs>=17.3.0 in /usr/local/lib/python3.10/dist-packages (from aiohttp<4.0.0,>=3.8.3->langchain-community) (24.2.0)\n",
            "Requirement already satisfied: frozenlist>=1.1.1 in /usr/local/lib/python3.10/dist-packages (from aiohttp<4.0.0,>=3.8.3->langchain-community) (1.4.1)\n",
            "Requirement already satisfied: multidict<7.0,>=4.5 in /usr/local/lib/python3.10/dist-packages (from aiohttp<4.0.0,>=3.8.3->langchain-community) (6.1.0)\n",
            "Requirement already satisfied: yarl<2.0,>=1.0 in /usr/local/lib/python3.10/dist-packages (from aiohttp<4.0.0,>=3.8.3->langchain-community) (1.11.1)\n",
            "Requirement already satisfied: async-timeout<5.0,>=4.0 in /usr/local/lib/python3.10/dist-packages (from aiohttp<4.0.0,>=3.8.3->langchain-community) (4.0.3)\n",
            "Collecting marshmallow<4.0.0,>=3.18.0 (from dataclasses-json<0.7,>=0.5.7->langchain-community)\n",
            "  Downloading marshmallow-3.22.0-py3-none-any.whl.metadata (7.2 kB)\n",
            "Collecting typing-inspect<1,>=0.4.0 (from dataclasses-json<0.7,>=0.5.7->langchain-community)\n",
            "  Downloading typing_inspect-0.9.0-py3-none-any.whl.metadata (1.5 kB)\n",
            "Requirement already satisfied: langchain-text-splitters<0.4.0,>=0.3.0 in /usr/local/lib/python3.10/dist-packages (from langchain<0.4.0,>=0.3.1->langchain-community) (0.3.0)\n",
            "Requirement already satisfied: pydantic<3.0.0,>=2.7.4 in /usr/local/lib/python3.10/dist-packages (from langchain<0.4.0,>=0.3.1->langchain-community) (2.9.2)\n",
            "Requirement already satisfied: jsonpatch<2.0,>=1.33 in /usr/local/lib/python3.10/dist-packages (from langchain-core<0.4.0,>=0.3.6->langchain-community) (1.33)\n",
            "Requirement already satisfied: packaging<25,>=23.2 in /usr/local/lib/python3.10/dist-packages (from langchain-core<0.4.0,>=0.3.6->langchain-community) (24.1)\n",
            "Requirement already satisfied: typing-extensions>=4.7 in /usr/local/lib/python3.10/dist-packages (from langchain-core<0.4.0,>=0.3.6->langchain-community) (4.12.2)\n",
            "Requirement already satisfied: httpx<1,>=0.23.0 in /usr/local/lib/python3.10/dist-packages (from langsmith<0.2.0,>=0.1.125->langchain-community) (0.27.2)\n",
            "Requirement already satisfied: orjson<4.0.0,>=3.9.14 in /usr/local/lib/python3.10/dist-packages (from langsmith<0.2.0,>=0.1.125->langchain-community) (3.10.7)\n",
            "Requirement already satisfied: python-dotenv>=0.21.0 in /usr/local/lib/python3.10/dist-packages (from pydantic-settings<3.0.0,>=2.4.0->langchain-community) (1.0.1)\n",
            "Requirement already satisfied: charset-normalizer<4,>=2 in /usr/local/lib/python3.10/dist-packages (from requests<3,>=2->langchain-community) (3.3.2)\n",
            "Requirement already satisfied: idna<4,>=2.5 in /usr/local/lib/python3.10/dist-packages (from requests<3,>=2->langchain-community) (3.10)\n",
            "Requirement already satisfied: urllib3<3,>=1.21.1 in /usr/local/lib/python3.10/dist-packages (from requests<3,>=2->langchain-community) (2.2.3)\n",
            "Requirement already satisfied: certifi>=2017.4.17 in /usr/local/lib/python3.10/dist-packages (from requests<3,>=2->langchain-community) (2024.8.30)\n",
            "Requirement already satisfied: greenlet!=0.4.17 in /usr/local/lib/python3.10/dist-packages (from SQLAlchemy<3,>=1.4->langchain-community) (3.1.1)\n",
            "Requirement already satisfied: anyio in /usr/local/lib/python3.10/dist-packages (from httpx<1,>=0.23.0->langsmith<0.2.0,>=0.1.125->langchain-community) (3.7.1)\n",
            "Requirement already satisfied: httpcore==1.* in /usr/local/lib/python3.10/dist-packages (from httpx<1,>=0.23.0->langsmith<0.2.0,>=0.1.125->langchain-community) (1.0.5)\n",
            "Requirement already satisfied: sniffio in /usr/local/lib/python3.10/dist-packages (from httpx<1,>=0.23.0->langsmith<0.2.0,>=0.1.125->langchain-community) (1.3.1)\n",
            "Requirement already satisfied: h11<0.15,>=0.13 in /usr/local/lib/python3.10/dist-packages (from httpcore==1.*->httpx<1,>=0.23.0->langsmith<0.2.0,>=0.1.125->langchain-community) (0.14.0)\n",
            "Requirement already satisfied: jsonpointer>=1.9 in /usr/local/lib/python3.10/dist-packages (from jsonpatch<2.0,>=1.33->langchain-core<0.4.0,>=0.3.6->langchain-community) (3.0.0)\n",
            "Requirement already satisfied: annotated-types>=0.6.0 in /usr/local/lib/python3.10/dist-packages (from pydantic<3.0.0,>=2.7.4->langchain<0.4.0,>=0.3.1->langchain-community) (0.7.0)\n",
            "Requirement already satisfied: pydantic-core==2.23.4 in /usr/local/lib/python3.10/dist-packages (from pydantic<3.0.0,>=2.7.4->langchain<0.4.0,>=0.3.1->langchain-community) (2.23.4)\n",
            "Collecting mypy-extensions>=0.3.0 (from typing-inspect<1,>=0.4.0->dataclasses-json<0.7,>=0.5.7->langchain-community)\n",
            "  Downloading mypy_extensions-1.0.0-py3-none-any.whl.metadata (1.1 kB)\n",
            "Requirement already satisfied: exceptiongroup in /usr/local/lib/python3.10/dist-packages (from anyio->httpx<1,>=0.23.0->langsmith<0.2.0,>=0.1.125->langchain-community) (1.2.2)\n",
            "Downloading langchain_community-0.3.1-py3-none-any.whl (2.4 MB)\n",
            "\u001b[2K   \u001b[90m━━━━━━━━━━━━━━━━━━━━━━━━━━━━━━━━━━━━━━━━\u001b[0m \u001b[32m2.4/2.4 MB\u001b[0m \u001b[31m27.2 MB/s\u001b[0m eta \u001b[36m0:00:00\u001b[0m\n",
            "\u001b[?25hDownloading dataclasses_json-0.6.7-py3-none-any.whl (28 kB)\n",
            "Downloading pydantic_settings-2.5.2-py3-none-any.whl (26 kB)\n",
            "Downloading marshmallow-3.22.0-py3-none-any.whl (49 kB)\n",
            "\u001b[2K   \u001b[90m━━━━━━━━━━━━━━━━━━━━━━━━━━━━━━━━━━━━━━━━\u001b[0m \u001b[32m49.3/49.3 kB\u001b[0m \u001b[31m3.0 MB/s\u001b[0m eta \u001b[36m0:00:00\u001b[0m\n",
            "\u001b[?25hDownloading typing_inspect-0.9.0-py3-none-any.whl (8.8 kB)\n",
            "Downloading mypy_extensions-1.0.0-py3-none-any.whl (4.7 kB)\n",
            "Installing collected packages: mypy-extensions, marshmallow, typing-inspect, pydantic-settings, dataclasses-json, langchain-community\n",
            "Successfully installed dataclasses-json-0.6.7 langchain-community-0.3.1 marshmallow-3.22.0 mypy-extensions-1.0.0 pydantic-settings-2.5.2 typing-inspect-0.9.0\n"
          ]
        }
      ],
      "source": [
        "!pip install langchain langchain-openai openai faiss-cpu python-dotenv rank_bm25\n",
        "!pip install -U langchain-community"
      ]
    },
    {
      "cell_type": "code",
      "source": [
        "import hashlib\n",
        "import os\n",
        "import getpass\n",
        "from typing import List, Tuple\n",
        "from dotenv import load_dotenv\n",
        "from langchain.text_splitter import RecursiveCharacterTextSplitter\n",
        "from langchain.embeddings import OpenAIEmbeddings\n",
        "from langchain.vectorstores import FAISS\n",
        "from langchain.chat_models import ChatOpenAI\n",
        "from langchain.prompts import ChatPromptTemplate\n",
        "from rank_bm25 import BM25Okapi\n",
        "from langchain.schema import Document"
      ],
      "metadata": {
        "id": "AH2PLUDo44ey"
      },
      "execution_count": 5,
      "outputs": []
    },
    {
      "cell_type": "code",
      "source": [
        "from google.colab import userdata\n",
        "os.environ['OPENAI_API_KEY'] = userdata.get('OPENAI_API_KEY')"
      ],
      "metadata": {
        "id": "EOviq6Eg5em4"
      },
      "execution_count": 6,
      "outputs": []
    },
    {
      "cell_type": "code",
      "source": [
        "class ContextualRetrieval:\n",
        "  \"\"\"\n",
        "  Class implementing contextual retrieval\n",
        "  \"\"\"\n",
        "  def __init__(self):\n",
        "    self.text_splitter = RecursiveCharacterTextSplitter(\n",
        "        chunk_size=800,\n",
        "        chunk_overlap=100,\n",
        "    )\n",
        "    self.embeddings = OpenAIEmbeddings()\n",
        "    self.llm = ChatOpenAI(\n",
        "        model=\"gpt-4o\",\n",
        "        temperature=0,\n",
        "        max_tokens=None,\n",
        "        timeout=None,\n",
        "        max_retries=2\n",
        "    )\n",
        "  def process_document(self, document:str) -> Tuple[List[Document], List[Document]]:\n",
        "    #processing a document by splitting it into chunks and generating context for each chunk\n",
        "    chunks = self.text_splitter.create_documents([document])\n",
        "    contextualized_chunks = self.generate_contextualized_chunks(document, chunks)\n",
        "    return chunks, contextualized_chunks\n",
        "  def generate_contextualized_chunks(self, document:str, chunks:List[Document]) -> List[Document]:\n",
        "    #generating a contextualized version of the given chunks\n",
        "    contextualized_chunks = []\n",
        "    for chunk in chunks:\n",
        "      context = self.generate_context(document, chunk.page_content)\n",
        "      contextualized_content = f\"{context}\\n\\n{chunk.page_content}\"\n",
        "      contextualized_chunks.append(Document(page_content=context, metadata=chunk.metadata))\n",
        "    return contextualized_chunks\n",
        "\n",
        "  def generate_context(self, document:str, chunk:str)-> str:\n",
        "    ##generate context for a specific chunk using the model\n",
        "    prompt = ChatPromptTemplate.from_template(\n",
        "        \"\"\"\n",
        "        You are an AI assistant specializing in financial analysis, particularly for Apple, Inc. Your task is to provide brief, relevant context for a chunk of text from Apple's Q3 2023 financial report.\n",
        "Here is the financial report:\n",
        "<document>\n",
        "{document}\n",
        "</document>\n",
        "\n",
        "Here is the chunk we want to situate within the whole document:\n",
        "<chunk>\n",
        "{chunk}\n",
        "</chunk>\n",
        "\n",
        "Provide a concise context (2-3 sentences) for this chunk, considering the following guidelines:\n",
        "1. Identify the main financial topic or metric discussed (e.g., revenue, profitability, segment performance, market position).\n",
        "2. Mention any relevant time periods or comparisons (e.g., Q3 2023, year-over-year changes).\n",
        "3. If applicable, note how this information relates to Apple's overall financial health, strategy, or market position.\n",
        "4. Include any key figures or percentages that provide important context.\n",
        "5. Do not use phrases like \"This chunk discusses\" or \"This section provides\". Instead, directly state the context.\n",
        "\n",
        "Please give a short succinct context to situate this chunk within the overall document for the purposes of improving search retrieval of the chunk. Answer only with the succinct context and nothing else.\n",
        "\n",
        "Context:\n",
        "\n",
        "\n",
        "        \"\"\"\n",
        "    )\n",
        "    messages = prompt.format_messages(document=document, chunk=chunk)\n",
        "    response = self.llm.invoke(messages)\n",
        "    return response.content\n",
        "\n",
        "  def create_vectorstores(self, chunks:List[Document]) -> FAISS:\n",
        "    return FAISS.from_documents(chunks, self.embeddings)\n",
        "  def create_bm25_index(self, chunks:List[Document]) -> BM25Okapi:\n",
        "    tokenized_chunks = [chunk.page_content.split() for chunk in chunks]\n",
        "    return BM25Okapi(tokenized_chunks)\n",
        "\n",
        "  def generate_answer(self, query: str, relevant_chunks: List[str]) -> str:\n",
        "        prompt = ChatPromptTemplate.from_template(\"\"\"\n",
        "        Based on the following information, please provide a concise and accurate answer to the question.\n",
        "        If the information is not sufficient to answer the question, say so.\n",
        "\n",
        "        Question: {query}\n",
        "\n",
        "        Relevant information:\n",
        "        {chunks}\n",
        "\n",
        "        Answer:\n",
        "        \"\"\")\n",
        "        messages = prompt.format_messages(query=query, chunks=\"\\n\\n\".join(relevant_chunks))\n",
        "        response = self.llm.invoke(messages)\n",
        "        return response.content\n",
        "\n",
        "\n",
        ""
      ],
      "metadata": {
        "id": "-hH-SZq451DE"
      },
      "execution_count": 24,
      "outputs": []
    },
    {
      "cell_type": "code",
      "source": [
        "document =\"\"\"\n",
        "Apple Inc. FY24 Q3 Consolidated Financial Statements\n",
        "Executive Summary:\n",
        "Apple Inc. reports strong results for Q3 FY24, with continued growth in net sales and operational efficiency. The following sections provide insights into the financial performance, market position, and strategic outlook of the company.\n",
        "\n",
        "1. Financial Performance Overview:\n",
        "Net Sales:\n",
        "\n",
        "Q3 2024: $85.78 billion, a 4.9% increase compared to $81.80 billion in Q3 2023.\n",
        "Products: $61.56 billion (up from $60.58 billion in Q3 2023).\n",
        "Services: $24.21 billion (up from $21.21 billion in Q3 2023).\n",
        "Gross Margin:\n",
        "\n",
        "$39.68 billion in Q3 2024, up from $36.41 billion in Q3 2023.\n",
        "Operating Income:\n",
        "\n",
        "$25.35 billion, compared to $22.99 billion in the previous year.\n",
        "Net Income:\n",
        "\n",
        "Q3 2024: $21.45 billion, compared to $19.88 billion in Q3 2023.\n",
        "Earnings Per Share (EPS):\n",
        "\n",
        "Basic: $1.40 (Q3 2024), up from $1.27 (Q3 2023).\n",
        "Diluted: $1.40 (Q3 2024), up from $1.26 (Q3 2023).\n",
        "2. Segment Analysis:\n",
        "Net Sales by Reportable Segment:\n",
        "\n",
        "Americas: $37.68 billion (up from $35.38 billion).\n",
        "Europe: $21.88 billion (up from $20.21 billion).\n",
        "Greater China: $14.73 billion (down from $15.76 billion).\n",
        "Japan: $5.10 billion (up from $4.82 billion).\n",
        "Rest of Asia Pacific: $6.39 billion (up from $5.63 billion).\n",
        "Net Sales by Product Category:\n",
        "\n",
        "iPhone: $39.30 billion, slightly down from $39.67 billion.\n",
        "Mac: $7.01 billion, up from $6.84 billion.\n",
        "iPad: $7.16 billion, up from $5.79 billion.\n",
        "Wearables, Home, and Accessories: $8.10 billion, down from $8.28 billion.\n",
        "Services: $24.21 billion, up from $21.21 billion.\n",
        "3. Operating Expenses:\n",
        "Research and Development (R&D):\n",
        "\n",
        "$8.01 billion, compared to $7.44 billion in Q3 2023.\n",
        "Selling, General, and Administrative (SG&A):\n",
        "\n",
        "$6.32 billion, up from $5.97 billion in Q3 2023.\n",
        "4. Balance Sheet Highlights:\n",
        "Assets:\n",
        "\n",
        "Current Assets: $125.44 billion, down from $143.57 billion in September 2023.\n",
        "Non-current Assets: $206.18 billion, slightly down from $209.02 billion.\n",
        "Liabilities:\n",
        "\n",
        "Current Liabilities: $131.62 billion, down from $145.31 billion.\n",
        "Non-current Liabilities: $133.28 billion, down from $145.13 billion.\n",
        "Total Liabilities and Shareholders' Equity:\n",
        "\n",
        "Total liabilities: $264.90 billion, compared to $290.44 billion.\n",
        "Shareholders' equity: $66.71 billion, up from $62.15 billion.\n",
        "5. Cash Flow Summary:\n",
        "Operating Activities:\n",
        "\n",
        "Net cash generated: $91.44 billion (up from $88.95 billion).\n",
        "Investing Activities:\n",
        "\n",
        "Net cash generated: $1.49 billion, slightly up from $1.31 billion in Q3 2023.\n",
        "Financing Activities:\n",
        "\n",
        "Cash used: $97.04 billion (up from $85.34 billion).\n",
        "6. Debt and Capital Structure:\n",
        "Total Debt: $98.31 billion (down from $105.10 billion in September 2023).\n",
        "Debt-to-Equity Ratio: Decreased slightly as debt reduced and shareholders' equity increased.\n",
        "7. Key Metrics:\n",
        "Net Income Growth: Up by 7.9% compared to Q3 2023.\n",
        "Service Revenue Growth: Up by 14.1% YoY, indicating strong demand for Apple's service ecosystem.\n",
        "EPS Growth: Strong performance reflected in both basic and diluted EPS improvements.\n",
        "Conclusion:\n",
        "Apple’s Q3 2024 results show continued resilience and growth, driven by its diverse product portfolio and expanding services sector. However, challenges like declining sales in Greater China could pose risks. Nonetheless, Apple's strong financial health, efficient cost management, and shareholder returns solidify its market leadership.\n",
        "\n",
        "\n",
        "\n",
        "\n",
        "\n",
        "\"\"\"\n",
        "\n"
      ],
      "metadata": {
        "id": "C4N6pQa6_V8I"
      },
      "execution_count": 25,
      "outputs": []
    },
    {
      "cell_type": "code",
      "source": [
        "context_retrieval = ContextualRetrieval()"
      ],
      "metadata": {
        "id": "Rt9JWBrL_dRX"
      },
      "execution_count": 26,
      "outputs": []
    },
    {
      "cell_type": "code",
      "source": [
        "context_retrieval"
      ],
      "metadata": {
        "colab": {
          "base_uri": "https://localhost:8080/"
        },
        "id": "TAlHn4rd_kDP",
        "outputId": "827dfc26-34bd-4264-d440-fd9eced60e75"
      },
      "execution_count": 27,
      "outputs": [
        {
          "output_type": "execute_result",
          "data": {
            "text/plain": [
              "<__main__.ContextualRetrieval at 0x78c87b0210c0>"
            ]
          },
          "metadata": {},
          "execution_count": 27
        }
      ]
    },
    {
      "cell_type": "code",
      "source": [
        "og_chunks, contextualized_chunks = context_retrieval.process_document(document)"
      ],
      "metadata": {
        "id": "OzzqNRl3_mCt"
      },
      "execution_count": 28,
      "outputs": []
    },
    {
      "cell_type": "code",
      "source": [
        "print(og_chunks[0])"
      ],
      "metadata": {
        "colab": {
          "base_uri": "https://localhost:8080/"
        },
        "id": "PSL1piST_vcR",
        "outputId": "36e9fd36-beca-4a8e-dbdd-ffc919b719ae"
      },
      "execution_count": 29,
      "outputs": [
        {
          "output_type": "stream",
          "name": "stdout",
          "text": [
            "page_content='Apple Inc. FY24 Q3 Consolidated Financial Statements\n",
            "Executive Summary:\n",
            "Apple Inc. reports strong results for Q3 FY24, with continued growth in net sales and operational efficiency. The following sections provide insights into the financial performance, market position, and strategic outlook of the company.\n",
            "\n",
            "1. Financial Performance Overview:\n",
            "Net Sales:\n",
            "\n",
            "Q3 2024: $85.78 billion, a 4.9% increase compared to $81.80 billion in Q3 2023.\n",
            "Products: $61.56 billion (up from $60.58 billion in Q3 2023).\n",
            "Services: $24.21 billion (up from $21.21 billion in Q3 2023).\n",
            "Gross Margin:\n",
            "\n",
            "$39.68 billion in Q3 2024, up from $36.41 billion in Q3 2023.\n",
            "Operating Income:\n",
            "\n",
            "$25.35 billion, compared to $22.99 billion in the previous year.\n",
            "Net Income:'\n"
          ]
        }
      ]
    },
    {
      "cell_type": "code",
      "source": [
        "print(contextualized_chunks[0])"
      ],
      "metadata": {
        "colab": {
          "base_uri": "https://localhost:8080/"
        },
        "id": "DmP4y3Pg_yhH",
        "outputId": "cf8a96e5-eaa3-4ea1-fcc1-7ebc0e943c1c"
      },
      "execution_count": 30,
      "outputs": [
        {
          "output_type": "stream",
          "name": "stdout",
          "text": [
            "page_content='Context:\n",
            "The chunk focuses on Apple's financial performance in Q3 FY24, highlighting a 4.9% year-over-year increase in net sales to $85.78 billion, with products and services contributing $61.56 billion and $24.21 billion, respectively. It also notes improvements in gross margin ($39.68 billion) and operating income ($25.35 billion), reflecting Apple's strong financial health and operational efficiency.'\n"
          ]
        }
      ]
    },
    {
      "cell_type": "code",
      "source": [
        "\n",
        "original_vectorstore = context_retrieval.create_vectorstores(og_chunks)\n",
        "contextualized_vectorstore = context_retrieval.create_vectorstores(contextualized_chunks)"
      ],
      "metadata": {
        "id": "Zewhx30QAXqv"
      },
      "execution_count": 31,
      "outputs": []
    },
    {
      "cell_type": "code",
      "source": [
        "original_bm25_index = context_retrieval.create_bm25_index(og_chunks)\n",
        "contextualized_bm25_index = context_retrieval.create_bm25_index(contextualized_chunks)"
      ],
      "metadata": {
        "id": "GkGazeFLA6r8"
      },
      "execution_count": 32,
      "outputs": []
    },
    {
      "cell_type": "code",
      "source": [
        "query = \"What was Apple's total revenue in Q3 2024 what was the gross profit and cash position?\"\n",
        "print(f\"Query: {query}\")\n",
        "original_vector_results = original_vectorstore.similarity_search(query, k=3)\n",
        "contextualized_vector_results = contextualized_vectorstore.similarity_search(query, k=3)\n",
        "\n",
        "\n",
        "##so now we have query split for a normal keyword search\n",
        "og_tokenized_query = query.split()\n",
        "\n",
        "#querying the bm25 results using the og method w/o contextualized results\n",
        "og_bm25_results = original_bm25_index.get_top_n(og_tokenized_query, og_chunks,n=3)\n",
        "\n",
        "#splitting for the normal keyword search using contextualized query\n",
        "contextualized_tokenized_query = query.split()\n",
        "##querying contextualized query\n",
        "contextualized_bm25_results = original_bm25_index.get_top_n(contextualized_tokenized_query, contextualized_chunks,n=3)\n",
        "\n",
        "\n",
        "\n"
      ],
      "metadata": {
        "colab": {
          "base_uri": "https://localhost:8080/"
        },
        "id": "a5dsNftoA-t9",
        "outputId": "4a42d5c6-f1f6-4530-ed1f-8ad1421f5e39"
      },
      "execution_count": 41,
      "outputs": [
        {
          "output_type": "stream",
          "name": "stdout",
          "text": [
            "Query: What was Apple's total revenue in Q3 2024 what was the gross profit and cash position?\n"
          ]
        }
      ]
    },
    {
      "cell_type": "code",
      "source": [
        "og_bm25_results"
      ],
      "metadata": {
        "colab": {
          "base_uri": "https://localhost:8080/"
        },
        "id": "X_ZR7QFTHZHK",
        "outputId": "ab5f4d41-fe19-4cf5-8e75-eae55f6aaaec"
      },
      "execution_count": 43,
      "outputs": [
        {
          "output_type": "execute_result",
          "data": {
            "text/plain": [
              "[Document(metadata={}, page_content=\"EPS Growth: Strong performance reflected in both basic and diluted EPS improvements.\\nConclusion:\\nApple’s Q3 2024 results show continued resilience and growth, driven by its diverse product portfolio and expanding services sector. However, challenges like declining sales in Greater China could pose risks. Nonetheless, Apple's strong financial health, efficient cost management, and shareholder returns solidify its market leadership.\"),\n",
              " Document(metadata={}, page_content=\"Current Liabilities: $131.62 billion, down from $145.31 billion.\\nNon-current Liabilities: $133.28 billion, down from $145.13 billion.\\nTotal Liabilities and Shareholders' Equity:\\n\\nTotal liabilities: $264.90 billion, compared to $290.44 billion.\\nShareholders' equity: $66.71 billion, up from $62.15 billion.\\n5. Cash Flow Summary:\\nOperating Activities:\\n\\nNet cash generated: $91.44 billion (up from $88.95 billion).\\nInvesting Activities:\\n\\nNet cash generated: $1.49 billion, slightly up from $1.31 billion in Q3 2023.\\nFinancing Activities:\"),\n",
              " Document(metadata={}, page_content='Apple Inc. FY24 Q3 Consolidated Financial Statements\\nExecutive Summary:\\nApple Inc. reports strong results for Q3 FY24, with continued growth in net sales and operational efficiency. The following sections provide insights into the financial performance, market position, and strategic outlook of the company.\\n\\n1. Financial Performance Overview:\\nNet Sales:\\n\\nQ3 2024: $85.78 billion, a 4.9% increase compared to $81.80 billion in Q3 2023.\\nProducts: $61.56 billion (up from $60.58 billion in Q3 2023).\\nServices: $24.21 billion (up from $21.21 billion in Q3 2023).\\nGross Margin:\\n\\n$39.68 billion in Q3 2024, up from $36.41 billion in Q3 2023.\\nOperating Income:\\n\\n$25.35 billion, compared to $22.99 billion in the previous year.\\nNet Income:')]"
            ]
          },
          "metadata": {},
          "execution_count": 43
        }
      ]
    },
    {
      "cell_type": "code",
      "source": [
        "contextualized_bm25_results"
      ],
      "metadata": {
        "colab": {
          "base_uri": "https://localhost:8080/"
        },
        "id": "ZqY42v2YG4h-",
        "outputId": "c7c010a6-8994-4fe5-f9e3-5074e1380c20"
      },
      "execution_count": 44,
      "outputs": [
        {
          "output_type": "execute_result",
          "data": {
            "text/plain": [
              "[Document(metadata={}, page_content=\"EPS growth highlights Apple's strong financial performance in Q3 2024, with basic and diluted EPS increasing to $1.40 from $1.27 and $1.26 respectively in Q3 2023. Despite challenges like declining sales in Greater China, Apple's diverse product portfolio, expanding services sector, and efficient cost management underscore its market leadership and financial resilience.\"),\n",
              " Document(metadata={}, page_content=\"Current and non-current liabilities for Q3 2024 decreased to $131.62 billion and $133.28 billion, respectively, from $145.31 billion and $145.13 billion in Q3 2023, reflecting improved financial stability. Total liabilities dropped to $264.90 billion, while shareholders' equity rose to $66.71 billion, indicating a stronger balance sheet. This is part of Apple's broader financial health, supported by robust cash flow from operating activities, which increased to $91.44 billion.\"),\n",
              " Document(metadata={}, page_content=\"Context:\\nThe chunk focuses on Apple's financial performance in Q3 FY24, highlighting a 4.9% year-over-year increase in net sales to $85.78 billion, with products and services contributing $61.56 billion and $24.21 billion, respectively. It also notes improvements in gross margin ($39.68 billion) and operating income ($25.35 billion), reflecting Apple's strong financial health and operational efficiency.\")]"
            ]
          },
          "metadata": {},
          "execution_count": 44
        }
      ]
    },
    {
      "cell_type": "code",
      "source": [
        "og_bm25_answer = context_retrieval.generate_answer(query, [doc.page_content for doc in og_bm25_results])\n",
        "contextualized_bm25_answer = context_retrieval.generate_answer(query, [doc.page_content for doc in contextualized_bm25_results])"
      ],
      "metadata": {
        "id": "WC5ZX7rvG3mE"
      },
      "execution_count": 45,
      "outputs": []
    },
    {
      "cell_type": "code",
      "source": [
        "og_bm25_answer"
      ],
      "metadata": {
        "colab": {
          "base_uri": "https://localhost:8080/",
          "height": 35
        },
        "id": "vJk0c0X9DNln",
        "outputId": "4b62842c-9921-4520-fda6-e6d048ca8a8d"
      },
      "execution_count": 46,
      "outputs": [
        {
          "output_type": "execute_result",
          "data": {
            "text/plain": [
              "\"Apple's total revenue in Q3 2024 was $85.78 billion. The gross profit was $39.68 billion. The cash position, based on net cash generated from operating activities, was $91.44 billion.\""
            ],
            "application/vnd.google.colaboratory.intrinsic+json": {
              "type": "string"
            }
          },
          "metadata": {},
          "execution_count": 46
        }
      ]
    },
    {
      "cell_type": "code",
      "source": [
        "contextualized_bm25_answer"
      ],
      "metadata": {
        "colab": {
          "base_uri": "https://localhost:8080/",
          "height": 35
        },
        "id": "yVijlqtTGkRp",
        "outputId": "45f85069-5673-4ea4-9c51-4ca3feb03876"
      },
      "execution_count": 48,
      "outputs": [
        {
          "output_type": "execute_result",
          "data": {
            "text/plain": [
              "\"The information provided does not include Apple's total revenue, gross profit, or cash position for Q3 2024. Therefore, it is not sufficient to answer the question.\""
            ],
            "application/vnd.google.colaboratory.intrinsic+json": {
              "type": "string"
            }
          },
          "metadata": {},
          "execution_count": 48
        }
      ]
    },
    {
      "cell_type": "code",
      "source": [],
      "metadata": {
        "id": "qJN9yp-VGm86"
      },
      "execution_count": 48,
      "outputs": []
    }
  ]
}